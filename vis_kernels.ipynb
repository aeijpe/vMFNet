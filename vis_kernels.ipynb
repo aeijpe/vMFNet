{
 "cells": [
  {
   "cell_type": "code",
   "execution_count": null,
   "metadata": {},
   "outputs": [],
   "source": [
    "import numpy as np"
   ]
  },
  {
   "cell_type": "markdown",
   "metadata": {},
   "source": [
    "# Visualize the kernels with t SNE"
   ]
  },
  {
   "cell_type": "code",
   "execution_count": null,
   "metadata": {},
   "outputs": [],
   "source": [
    "dict_dir = \"\"\n",
    "vc = np.load(dict_dir, allow_pickle=True)\n",
    "vc = vc[:, :, np.newaxis, np.newaxis]\n",
    "vc = torch.from_numpy(vc).type(torch.FloatTensor)"
   ]
  }
 ],
 "metadata": {
  "language_info": {
   "name": "python"
  }
 },
 "nbformat": 4,
 "nbformat_minor": 2
}
